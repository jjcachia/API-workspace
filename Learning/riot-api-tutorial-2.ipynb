{
 "cells": [
  {
   "cell_type": "markdown",
   "metadata": {},
   "source": [
    "## **Riot API Tutorial 2 (2025-02-27)**\n",
    "\n",
    "*This notebook follows the youtube tutorial series by iTero Gaming ([Youtube Link](https://www.youtube.com/watch?v=eLo4p5D_i48&list=PL3vL1pnMCbUERqllcwhcvEJbKum-M9zT5)). It is here to provide additional ideas and tools for working on Riot's API.*"
   ]
  },
  {
   "cell_type": "markdown",
   "metadata": {},
   "source": [
    "### **1. Our First API Call**"
   ]
  },
  {
   "cell_type": "code",
   "execution_count": null,
   "metadata": {
    "vscode": {
     "languageId": "plaintext"
    }
   },
   "outputs": [],
   "source": []
  },
  {
   "cell_type": "markdown",
   "metadata": {},
   "source": [
    "### **2.**"
   ]
  }
 ],
 "metadata": {
  "language_info": {
   "name": "python"
  }
 },
 "nbformat": 4,
 "nbformat_minor": 2
}
